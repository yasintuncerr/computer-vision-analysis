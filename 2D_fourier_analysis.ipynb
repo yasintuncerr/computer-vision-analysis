{
 "cells": [
  {
   "cell_type": "code",
   "execution_count": null,
   "metadata": {},
   "outputs": [],
   "source": [
    "import os\n",
    "\n",
    "import numpy as np\n",
    "import matplotlib.pyplot as plt\n",
    "from PIL import Image   \n",
    "\n",
    "\n",
    "notebook_dir = os.path.abspath(\"\")\n",
    "\n",
    "images_dir = os.path.join(os.path.abspath(os.path.join(notebook_dir,\"data\", \"test_images\")))\n",
    "\n",
    "print(images_dir)\n",
    "\n",
    "list_images = os.listdir(images_dir)\n",
    "i = 0\n",
    "for image_name in list_images:\n",
    "    print(f\"image {i}: {image_name}\\n\")\n",
    "    i += 1\n"
   ]
  },
  {
   "cell_type": "markdown",
   "metadata": {},
   "source": [
    "## 2D FFT Analysis on Basic Matrices"
   ]
  },
  {
   "cell_type": "code",
   "execution_count": 2,
   "metadata": {},
   "outputs": [],
   "source": [
    "\n",
    "def plot_fft_results(amplitude, phase):\n",
    "    \"\"\"Plot original data, FFT amplitude, and FFT phase\"\"\"\n",
    "    fig, (ax1, ax2) = plt.subplots(1, 2, figsize=(15, 5))\n",
    "    \n",
    "\n",
    "    im1 = ax1.imshow(np.log10(amplitude + 1), cmap='gray')\n",
    "    ax1.set_title('FFT Amplitude (log scale)')\n",
    "    \n",
    "    im2 = ax2.imshow(phase, cmap='gray', vmin=-np.pi, vmax=np.pi)\n",
    "    ax2.set_title('FFT Phase')\n",
    "    \n",
    "    plt.tight_layout()\n",
    "\n",
    "\n",
    "def plot_images(np_images, titles=None, fig_size=(10, 10)):\n",
    "    if isinstance(np_images, np.ndarray) and len(np_images.shape) in [2, 3]:\n",
    "        np_images = [np_images]\n",
    "    \n",
    "    if titles is not None and not isinstance(titles, (list, tuple)):\n",
    "        titles = [titles]\n",
    "    \n",
    "    n_images = len(np_images)\n",
    "    fig, axes = plt.subplots(1, n_images, figsize=fig_size)\n",
    "    \n",
    "    if n_images == 1:\n",
    "        axes = [axes]\n",
    "    \n",
    "    for i, (img, ax) in enumerate(zip(np_images, axes)):\n",
    "        if len(img.shape) == 3 and img.shape[2] == 1:\n",
    "            img = img[:,:,0]\n",
    "        ax.imshow(img, cmap='gray' if len(img.shape) == 2 else None)\n",
    "        ax.axis('off')\n",
    "        if titles is not None and i < len(titles):\n",
    "            ax.set_title(titles[i])\n",
    "    \n",
    "    plt.show()\n",
    "\n",
    "    "
   ]
  },
  {
   "cell_type": "code",
   "execution_count": null,
   "metadata": {},
   "outputs": [],
   "source": [
    "sample_array = np.array([\n",
    "    [10, 10, 10],\n",
    "    [20, 20, 20],\n",
    "    [30, 30, 30],\n",
    "])\n",
    "\n",
    "fft_array = np.fft.fft2(sample_array)\n",
    "\n",
    "print(fft_array)\n",
    "\n",
    "magnitudes = np.abs(fft_array)\n",
    "\n",
    "n_log_magnitudes = np.log10(magnitudes + 1)\n",
    "\n",
    "\n",
    "angle = np.angle(fft_array)\n",
    "\n",
    "inverse_fft = np.fft.ifft2(fft_array).real\n",
    "\n",
    "plot_images([sample_array, n_log_magnitudes, angle, inverse_fft], ['Original Image', 'FFT Magnitude (log 10 scale)', 'FFT Phase', 'Inverse FFT'])\n",
    "\n"
   ]
  },
  {
   "cell_type": "code",
   "execution_count": null,
   "metadata": {},
   "outputs": [],
   "source": [
    "np_shifting = np.fft.fftshift(fft_array)   \n",
    "\n",
    "\n",
    "nlog_shifting = np.log10(np.abs(np_shifting) + 1)\n",
    "shifted_magnitudes = np.abs(nlog_shifting)\n",
    "shifted_angle = np.angle(fft_array)\n",
    "\n",
    "plot_images([sample_array, shifted_magnitudes, shifted_angle], ['Original Image', 'FFT Magnitude (log scale)', 'FFT Phase'])\n",
    "\n"
   ]
  },
  {
   "cell_type": "code",
   "execution_count": null,
   "metadata": {},
   "outputs": [],
   "source": [
    "\n",
    "inverse_fft = np.abs(np.fft.ifft2(fft_array)).astype(int)\n",
    "\n",
    "print(inverse_fft)"
   ]
  },
  {
   "cell_type": "markdown",
   "metadata": {},
   "source": [
    "## 2D FFT Analysis on Basic Image"
   ]
  },
  {
   "cell_type": "code",
   "execution_count": 6,
   "metadata": {},
   "outputs": [],
   "source": [
    "import numpy as np\n",
    "import cv2\n",
    "\n",
    "def find_center(points):\n",
    "    all_points = np.array([point for line in points for point in line])\n",
    "    center = np.mean(all_points, axis=0)\n",
    "    return center\n",
    "\n",
    "def rotate_geometric_shape(points, angle):\n",
    "    angle_rad = np.deg2rad(angle)\n",
    "    \n",
    "    center = find_center(points)\n",
    "    \n",
    "    rotation_matrix = np.array([\n",
    "        [np.cos(angle_rad), -np.sin(angle_rad)],\n",
    "        [np.sin(angle_rad), np.cos(angle_rad)]\n",
    "    ])\n",
    "    \n",
    "    rotated_points = []\n",
    "    for p1, p2 in points:\n",
    "        p1 = np.array(p1)\n",
    "        p2 = np.array(p2)\n",
    "        \n",
    "        p1_centered = p1 - center\n",
    "        p2_centered = p2 - center\n",
    "        \n",
    "        p1_rotated = np.dot(rotation_matrix, p1_centered)\n",
    "        p2_rotated = np.dot(rotation_matrix, p2_centered)\n",
    "        \n",
    "        p1_final = p1_rotated + center\n",
    "        p2_final = p2_rotated + center\n",
    "        \n",
    "        p1_final = p1_final.astype(int)\n",
    "        p2_final = p2_final.astype(int)\n",
    "        \n",
    "        rotated_points.append([p1_final, p2_final])\n",
    "    \n",
    "    return rotated_points\n",
    "\n",
    "def shift_geometric_shape(points, shift_x, shift_y):\n",
    "    shifted_points = []\n",
    "    shift_vector = np.array([shift_x, shift_y])\n",
    "    \n",
    "    for p1, p2 in points:\n",
    "        p1 = np.array(p1)\n",
    "        p2 = np.array(p2)\n",
    "        \n",
    "        p1_shifted = p1 + shift_vector\n",
    "        p2_shifted = p2 + shift_vector\n",
    "        \n",
    "        p1_shifted = p1_shifted.astype(int)\n",
    "        p2_shifted = p2_shifted.astype(int)\n",
    "        \n",
    "        shifted_points.append([p1_shifted, p2_shifted])\n",
    "    \n",
    "    return shifted_points\n",
    "\n",
    "def draw_image(points, \n",
    "               width: int = 500, \n",
    "               height: int = 500) -> np.ndarray:\n",
    "    img = np.zeros((height, width), dtype=np.uint8)\n",
    "    \n",
    "    vertices = []\n",
    "    edges = set()\n",
    "    \n",
    "    for p1, p2 in points:\n",
    "        p1 = tuple(map(int, p1))\n",
    "        p2 = tuple(map(int, p2))\n",
    "        cv2.line(img, p1, p2, 255, 2)\n",
    "        \n",
    "        if p1 not in vertices:\n",
    "            vertices.append(p1)\n",
    "        if p2 not in vertices:\n",
    "            vertices.append(p2)\n",
    "            \n",
    "        edges.add((vertices.index(p1), vertices.index(p2)))\n",
    "    \n",
    "    if len(vertices) >= 3:\n",
    "        contour = np.array(vertices, dtype=np.int32)\n",
    "        cv2.fillPoly(img, [contour], 255)\n",
    "    \n",
    "    return img\n",
    "\n",
    "\n",
    "#\n"
   ]
  },
  {
   "cell_type": "code",
   "execution_count": null,
   "metadata": {},
   "outputs": [],
   "source": [
    "geometric_draw = [\n",
    "        [(200, 200), (300, 200)],\n",
    "        [(300, 200), (300, 300)],\n",
    "        [(300, 300), (200, 300)],\n",
    "        [(200, 300), (250, 225)],\n",
    "        [(250, 225), (200, 200)],\n",
    "]\n",
    "# Ana işlem akışı\n",
    "img = draw_image(geometric_draw)\n",
    "\n",
    "plot_images(img, 'Geometric Shape', fig_size=(8, 8))"
   ]
  },
  {
   "cell_type": "code",
   "execution_count": null,
   "metadata": {},
   "outputs": [],
   "source": []
  },
  {
   "cell_type": "code",
   "execution_count": null,
   "metadata": {},
   "outputs": [],
   "source": [
    "fft_image = np.fft.fft2(img)\n",
    "\n",
    "shifted_fft = np.fft.fftshift(fft_image)\n",
    "\n",
    "\n",
    "\n",
    "magnitude = np.abs(shifted_fft)\n",
    "\n",
    "nlog_magnitude = np.log10(magnitude + 1)\n",
    "angle = np.angle(shifted_fft)\n",
    "\n",
    "\n",
    "plot_images([nlog_magnitude, angle], ['FFT Magnitude', 'FFT Phase'], fig_size=(15, 15))\n",
    "\n",
    "\n",
    "\n"
   ]
  },
  {
   "cell_type": "code",
   "execution_count": null,
   "metadata": {},
   "outputs": [],
   "source": [
    "rotate_angles = [0, 30, 210, 300]\n",
    "\n",
    "rotated_images = []\n",
    "for angle in rotate_angles:\n",
    "    rotated_points = rotate_geometric_shape(geometric_draw, angle)\n",
    "    rotated_img = draw_image(rotated_points)\n",
    "    rotated_images.append(rotated_img)\n",
    "\n",
    "\n",
    "titles = [f\"rotated by {angle} degrees\" for angle in rotate_angles]\n",
    "\n",
    "plot_images(rotated_images, titles, fig_size=(30, 30))"
   ]
  },
  {
   "cell_type": "code",
   "execution_count": 10,
   "metadata": {},
   "outputs": [],
   "source": [
    "fft_images = []\n",
    "for img in rotated_images:\n",
    "    fft_image = np.fft.fft2(img)\n",
    "    fft_images.append(fft_image)\n",
    "\n",
    "shifted_fft_images = [np.fft.fftshift(fft_image) for fft_image in fft_images]\n",
    "\n",
    "magnitudes = [np.abs(fft_image) for fft_image in shifted_fft_images]\n",
    "\n",
    "nlog_magnitudes = [np.log10(magnitude + 1) for magnitude in magnitudes]\n"
   ]
  },
  {
   "cell_type": "code",
   "execution_count": null,
   "metadata": {},
   "outputs": [],
   "source": [
    "\n",
    "titles = [f\"rotated by {angle} degrees\" for angle in rotate_angles]\n",
    "plot_images(nlog_magnitudes, titles, fig_size=(30, 30))"
   ]
  },
  {
   "cell_type": "code",
   "execution_count": null,
   "metadata": {},
   "outputs": [],
   "source": [
    "phase_images = [np.angle(fft_image) for fft_image in shifted_fft_images]\n",
    "\n",
    "plot_images(phase_images, titles, fig_size=(30, 30))"
   ]
  },
  {
   "cell_type": "code",
   "execution_count": null,
   "metadata": {},
   "outputs": [],
   "source": [
    "shifted_points = []\n",
    "pts = geometric_draw\n",
    "pts1 = shift_geometric_shape(geometric_draw, -150, -150)\n",
    "pts2 = shift_geometric_shape(geometric_draw, 150, 150)\n",
    "shifted_points.append(pts1)\n",
    "shifted_points.append(pts)\n",
    "shifted_points.append(pts2)\n",
    "\n",
    "\n",
    "shifted_images = [draw_image(pts) for pts in shifted_points]\n",
    "\n",
    "titles = ['shifted by (-150, -150)', 'original', 'shifted by (150, 150)']\n",
    "\n",
    "plot_images(shifted_images, titles, fig_size=(30, 30))"
   ]
  },
  {
   "cell_type": "code",
   "execution_count": 14,
   "metadata": {},
   "outputs": [],
   "source": [
    "fft_images = [np.fft.fft2(img) for img in shifted_images]\n",
    "\n",
    "shifted_fft_images = [np.fft.fftshift(fft_image) for fft_image in fft_images]\n",
    "\n",
    "magnitudes = [np.abs(fft_image) for fft_image in shifted_fft_images]\n",
    "\n",
    "nlog_magnitudes = [np.log10(magnitude + 1) for magnitude in magnitudes]\n",
    "\n",
    "angles = [np.angle(fft_image) for fft_image in fft_images]\n",
    "\n",
    "titles = ['shifted by (-150, 50)', 'original', 'shifted by (50, -150)']\n",
    "\n"
   ]
  },
  {
   "cell_type": "code",
   "execution_count": null,
   "metadata": {},
   "outputs": [],
   "source": [
    "plot_images(nlog_magnitudes, titles, fig_size=(30, 30))"
   ]
  },
  {
   "cell_type": "code",
   "execution_count": null,
   "metadata": {},
   "outputs": [],
   "source": [
    "plot_images(angles, titles, fig_size=(30, 30))"
   ]
  },
  {
   "cell_type": "code",
   "execution_count": 17,
   "metadata": {},
   "outputs": [],
   "source": [
    "def radius_filter(fft_data, radius):\n",
    "    copy_data = fft_data.copy()\n",
    "    center = (fft_data.shape[0] // 2, fft_data.shape[1] // 2)\n",
    "    \n",
    "    for i in range(fft_data.shape[0]):\n",
    "        for j in range(fft_data.shape[1]):\n",
    "            distance = np.sqrt((i - center[0])**2 + (j - center[1])**2)\n",
    "            if distance > radius:\n",
    "                copy_data[i, j] = 0\n",
    "    return copy_data\n",
    "\n",
    "\n"
   ]
  },
  {
   "cell_type": "code",
   "execution_count": null,
   "metadata": {},
   "outputs": [],
   "source": [
    "radiuses = [10, 50, 100, 300]\n",
    "\n",
    "\n",
    "image_dir = os.path.join(images_dir, list_images[9])\n",
    "\n",
    "image = Image.open(image_dir)\n",
    "\n",
    "image = image.convert('L')\n",
    "\n",
    "image = np.array(image)\n",
    "\n",
    "plot_images(image, 'Original Image', fig_size=(8, 8))"
   ]
  },
  {
   "cell_type": "code",
   "execution_count": null,
   "metadata": {},
   "outputs": [],
   "source": [
    "fft_image = np.fft.fft2(image)\n",
    "\n",
    "shifted_fft = np.fft.fftshift(fft_image)\n",
    "\n",
    "magnitudes = np.abs(shifted_fft)\n",
    "\n",
    "nlog_magnitudes = np.log10(magnitudes + 1)\n",
    "\n",
    "angle = np.angle(fft_image)\n",
    "\n",
    "plot_images([image, nlog_magnitudes, angle], ['Original Image', 'FFT Magnitude', 'FFT Phase'], fig_size=(30, 30))"
   ]
  },
  {
   "cell_type": "code",
   "execution_count": null,
   "metadata": {},
   "outputs": [],
   "source": [
    "filtered_image = radius_filter(shifted_fft, 10)\n",
    "\n",
    "filtered_magnitudes = np.abs(filtered_image)\n",
    "\n",
    "nlog_filtered_magnitudes = np.log10(filtered_magnitudes + 1)\n",
    "\n",
    "filtered_angle = np.angle(filtered_image)\n",
    "\n",
    "plot_images([image, nlog_filtered_magnitudes, filtered_angle], ['Original Image', 'Filtered FFT Magnitude', 'Filtered FFT Phase'], fig_size=(30, 30))"
   ]
  },
  {
   "cell_type": "code",
   "execution_count": null,
   "metadata": {},
   "outputs": [],
   "source": [
    "inverse_shifted_fft = np.fft.ifftshift(filtered_image)\n",
    "\n",
    "inverse_fft = np.fft.ifft2(inverse_shifted_fft)\n",
    "\n",
    "inversed_image = np.abs(inverse_fft).astype(np.uint8)\n",
    "\n",
    "plot_images([image, inversed_image], ['Original Image', 'Inversed Image'], fig_size=(15, 15))"
   ]
  },
  {
   "cell_type": "code",
   "execution_count": null,
   "metadata": {},
   "outputs": [],
   "source": [
    "filtered_images = []\n",
    "for radius in radiuses:\n",
    "    filtered_image = radius_filter(shifted_fft.copy(), radius)\n",
    "    filtered_images.append(filtered_image)\n",
    "\n",
    "filtered_magnitudes = [np.abs(filtered_image) for filtered_image in filtered_images]\n",
    "\n",
    "nlog_filtered_magnitudes = [np.log10(magnitude + 1) for magnitude in filtered_magnitudes]\n",
    "\n",
    "filtered_angles = [np.angle(filtered_image) for filtered_image in filtered_images]\n",
    "\n",
    "titles = [f'Filtered FFT Magnitude (radius={radius})' for radius in radiuses]\n",
    "\n",
    "plot_images(nlog_filtered_magnitudes, titles, fig_size=(30, 30))"
   ]
  },
  {
   "cell_type": "code",
   "execution_count": null,
   "metadata": {},
   "outputs": [],
   "source": [
    "inverse_shifted_ffts = [np.fft.ifftshift(filtered_image) for filtered_image in filtered_images]\n",
    "\n",
    "inverse_ffts = [np.fft.ifft2(inverse_shifted_fft) for inverse_shifted_fft in inverse_shifted_ffts]\n",
    "\n",
    "inversed_images = [np.abs(inverse_fft).astype(np.uint8) for inverse_fft in inverse_ffts]\n",
    "\n",
    "titles = [f'Inversed Image (radius={radius})' for radius in radiuses]\n",
    "\n",
    "plot_images(inversed_images, titles, fig_size=(30, 30))"
   ]
  },
  {
   "cell_type": "code",
   "execution_count": null,
   "metadata": {},
   "outputs": [],
   "source": []
  }
 ],
 "metadata": {
  "kernelspec": {
   "display_name": ".deeplearning",
   "language": "python",
   "name": "python3"
  },
  "language_info": {
   "codemirror_mode": {
    "name": "ipython",
    "version": 3
   },
   "file_extension": ".py",
   "mimetype": "text/x-python",
   "name": "python",
   "nbconvert_exporter": "python",
   "pygments_lexer": "ipython3",
   "version": "3.12.3"
  }
 },
 "nbformat": 4,
 "nbformat_minor": 2
}
